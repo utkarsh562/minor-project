{
  "metadata": {
    "kernelspec": {
      "language": "python",
      "display_name": "Python 3",
      "name": "python3"
    },
    "language_info": {
      "pygments_lexer": "ipython3",
      "nbconvert_exporter": "python",
      "version": "3.6.4",
      "file_extension": ".py",
      "codemirror_mode": {
        "name": "ipython",
        "version": 3
      },
      "name": "python",
      "mimetype": "text/x-python"
    },
    "colab": {
      "provenance": [],
      "gpuType": "T4",
      "toc_visible": true
    },
    "accelerator": "GPU",
    "gpuClass": "standard"
  },
  "nbformat_minor": 0,
  "nbformat": 4,
  "cells": [
    {
      "cell_type": "code",
      "source": [
        "from google.colab import drive\n",
        "drive.mount('/content/drive')"
      ],
      "metadata": {
        "colab": {
          "base_uri": "https://localhost:8080/"
        },
        "id": "TRL17N1-O0E1",
        "outputId": "843bb459-f7b0-4a51-be5a-90ec4c35b458"
      },
      "execution_count": 1,
      "outputs": [
        {
          "output_type": "stream",
          "name": "stdout",
          "text": [
            "Mounted at /content/drive\n"
          ]
        }
      ]
    },
    {
      "cell_type": "code",
      "source": [
        "import numpy as np \n",
        "import pandas as pd \n",
        "import matplotlib.pyplot as plt\n",
        "import seaborn as sns"
      ],
      "metadata": {
        "_uuid": "8f2839f25d086af736a60e9eeb907d3b93b6e0e5",
        "_cell_guid": "b1076dfc-b9ad-4769-8c92-a6c4dae69d19",
        "execution": {
          "iopub.status.busy": "2023-05-15T14:44:38.462792Z",
          "iopub.execute_input": "2023-05-15T14:44:38.463345Z",
          "iopub.status.idle": "2023-05-15T14:44:39.349275Z",
          "shell.execute_reply.started": "2023-05-15T14:44:38.463311Z",
          "shell.execute_reply": "2023-05-15T14:44:39.347427Z"
        },
        "trusted": true,
        "id": "77w9LNRpOx4Z"
      },
      "execution_count": 2,
      "outputs": []
    },
    {
      "cell_type": "markdown",
      "source": [
        "## importing the dataset"
      ],
      "metadata": {
        "id": "V37UThpsOx4b"
      }
    },
    {
      "cell_type": "code",
      "source": [
        "data = pd.read_csv('/content/drive/MyDrive/Minor_Utkarsh/creditcard.csv')\n",
        "data.head()"
      ],
      "metadata": {
        "execution": {
          "iopub.status.busy": "2023-05-15T14:44:39.350587Z",
          "iopub.execute_input": "2023-05-15T14:44:39.350943Z",
          "iopub.status.idle": "2023-05-15T14:44:44.47305Z",
          "shell.execute_reply.started": "2023-05-15T14:44:39.350914Z",
          "shell.execute_reply": "2023-05-15T14:44:44.471597Z"
        },
        "trusted": true,
        "colab": {
          "base_uri": "https://localhost:8080/",
          "height": 300
        },
        "id": "3Dv8xN3jOx4d",
        "outputId": "3c123b3c-ed1e-402f-b3f9-832953115705"
      },
      "execution_count": 3,
      "outputs": [
        {
          "output_type": "execute_result",
          "data": {
            "text/plain": [
              "   Time        V1        V2        V3        V4        V5        V6        V7  \\\n",
              "0   0.0 -1.359807 -0.072781  2.536347  1.378155 -0.338321  0.462388  0.239599   \n",
              "1   0.0  1.191857  0.266151  0.166480  0.448154  0.060018 -0.082361 -0.078803   \n",
              "2   1.0 -1.358354 -1.340163  1.773209  0.379780 -0.503198  1.800499  0.791461   \n",
              "3   1.0 -0.966272 -0.185226  1.792993 -0.863291 -0.010309  1.247203  0.237609   \n",
              "4   2.0 -1.158233  0.877737  1.548718  0.403034 -0.407193  0.095921  0.592941   \n",
              "\n",
              "         V8        V9  ...       V21       V22       V23       V24       V25  \\\n",
              "0  0.098698  0.363787  ... -0.018307  0.277838 -0.110474  0.066928  0.128539   \n",
              "1  0.085102 -0.255425  ... -0.225775 -0.638672  0.101288 -0.339846  0.167170   \n",
              "2  0.247676 -1.514654  ...  0.247998  0.771679  0.909412 -0.689281 -0.327642   \n",
              "3  0.377436 -1.387024  ... -0.108300  0.005274 -0.190321 -1.175575  0.647376   \n",
              "4 -0.270533  0.817739  ... -0.009431  0.798278 -0.137458  0.141267 -0.206010   \n",
              "\n",
              "        V26       V27       V28  Amount  Class  \n",
              "0 -0.189115  0.133558 -0.021053  149.62      0  \n",
              "1  0.125895 -0.008983  0.014724    2.69      0  \n",
              "2 -0.139097 -0.055353 -0.059752  378.66      0  \n",
              "3 -0.221929  0.062723  0.061458  123.50      0  \n",
              "4  0.502292  0.219422  0.215153   69.99      0  \n",
              "\n",
              "[5 rows x 31 columns]"
            ],
            "text/html": [
              "\n",
              "  <div id=\"df-b36c782e-2a43-41fe-8ea9-4a237cbbb338\">\n",
              "    <div class=\"colab-df-container\">\n",
              "      <div>\n",
              "<style scoped>\n",
              "    .dataframe tbody tr th:only-of-type {\n",
              "        vertical-align: middle;\n",
              "    }\n",
              "\n",
              "    .dataframe tbody tr th {\n",
              "        vertical-align: top;\n",
              "    }\n",
              "\n",
              "    .dataframe thead th {\n",
              "        text-align: right;\n",
              "    }\n",
              "</style>\n",
              "<table border=\"1\" class=\"dataframe\">\n",
              "  <thead>\n",
              "    <tr style=\"text-align: right;\">\n",
              "      <th></th>\n",
              "      <th>Time</th>\n",
              "      <th>V1</th>\n",
              "      <th>V2</th>\n",
              "      <th>V3</th>\n",
              "      <th>V4</th>\n",
              "      <th>V5</th>\n",
              "      <th>V6</th>\n",
              "      <th>V7</th>\n",
              "      <th>V8</th>\n",
              "      <th>V9</th>\n",
              "      <th>...</th>\n",
              "      <th>V21</th>\n",
              "      <th>V22</th>\n",
              "      <th>V23</th>\n",
              "      <th>V24</th>\n",
              "      <th>V25</th>\n",
              "      <th>V26</th>\n",
              "      <th>V27</th>\n",
              "      <th>V28</th>\n",
              "      <th>Amount</th>\n",
              "      <th>Class</th>\n",
              "    </tr>\n",
              "  </thead>\n",
              "  <tbody>\n",
              "    <tr>\n",
              "      <th>0</th>\n",
              "      <td>0.0</td>\n",
              "      <td>-1.359807</td>\n",
              "      <td>-0.072781</td>\n",
              "      <td>2.536347</td>\n",
              "      <td>1.378155</td>\n",
              "      <td>-0.338321</td>\n",
              "      <td>0.462388</td>\n",
              "      <td>0.239599</td>\n",
              "      <td>0.098698</td>\n",
              "      <td>0.363787</td>\n",
              "      <td>...</td>\n",
              "      <td>-0.018307</td>\n",
              "      <td>0.277838</td>\n",
              "      <td>-0.110474</td>\n",
              "      <td>0.066928</td>\n",
              "      <td>0.128539</td>\n",
              "      <td>-0.189115</td>\n",
              "      <td>0.133558</td>\n",
              "      <td>-0.021053</td>\n",
              "      <td>149.62</td>\n",
              "      <td>0</td>\n",
              "    </tr>\n",
              "    <tr>\n",
              "      <th>1</th>\n",
              "      <td>0.0</td>\n",
              "      <td>1.191857</td>\n",
              "      <td>0.266151</td>\n",
              "      <td>0.166480</td>\n",
              "      <td>0.448154</td>\n",
              "      <td>0.060018</td>\n",
              "      <td>-0.082361</td>\n",
              "      <td>-0.078803</td>\n",
              "      <td>0.085102</td>\n",
              "      <td>-0.255425</td>\n",
              "      <td>...</td>\n",
              "      <td>-0.225775</td>\n",
              "      <td>-0.638672</td>\n",
              "      <td>0.101288</td>\n",
              "      <td>-0.339846</td>\n",
              "      <td>0.167170</td>\n",
              "      <td>0.125895</td>\n",
              "      <td>-0.008983</td>\n",
              "      <td>0.014724</td>\n",
              "      <td>2.69</td>\n",
              "      <td>0</td>\n",
              "    </tr>\n",
              "    <tr>\n",
              "      <th>2</th>\n",
              "      <td>1.0</td>\n",
              "      <td>-1.358354</td>\n",
              "      <td>-1.340163</td>\n",
              "      <td>1.773209</td>\n",
              "      <td>0.379780</td>\n",
              "      <td>-0.503198</td>\n",
              "      <td>1.800499</td>\n",
              "      <td>0.791461</td>\n",
              "      <td>0.247676</td>\n",
              "      <td>-1.514654</td>\n",
              "      <td>...</td>\n",
              "      <td>0.247998</td>\n",
              "      <td>0.771679</td>\n",
              "      <td>0.909412</td>\n",
              "      <td>-0.689281</td>\n",
              "      <td>-0.327642</td>\n",
              "      <td>-0.139097</td>\n",
              "      <td>-0.055353</td>\n",
              "      <td>-0.059752</td>\n",
              "      <td>378.66</td>\n",
              "      <td>0</td>\n",
              "    </tr>\n",
              "    <tr>\n",
              "      <th>3</th>\n",
              "      <td>1.0</td>\n",
              "      <td>-0.966272</td>\n",
              "      <td>-0.185226</td>\n",
              "      <td>1.792993</td>\n",
              "      <td>-0.863291</td>\n",
              "      <td>-0.010309</td>\n",
              "      <td>1.247203</td>\n",
              "      <td>0.237609</td>\n",
              "      <td>0.377436</td>\n",
              "      <td>-1.387024</td>\n",
              "      <td>...</td>\n",
              "      <td>-0.108300</td>\n",
              "      <td>0.005274</td>\n",
              "      <td>-0.190321</td>\n",
              "      <td>-1.175575</td>\n",
              "      <td>0.647376</td>\n",
              "      <td>-0.221929</td>\n",
              "      <td>0.062723</td>\n",
              "      <td>0.061458</td>\n",
              "      <td>123.50</td>\n",
              "      <td>0</td>\n",
              "    </tr>\n",
              "    <tr>\n",
              "      <th>4</th>\n",
              "      <td>2.0</td>\n",
              "      <td>-1.158233</td>\n",
              "      <td>0.877737</td>\n",
              "      <td>1.548718</td>\n",
              "      <td>0.403034</td>\n",
              "      <td>-0.407193</td>\n",
              "      <td>0.095921</td>\n",
              "      <td>0.592941</td>\n",
              "      <td>-0.270533</td>\n",
              "      <td>0.817739</td>\n",
              "      <td>...</td>\n",
              "      <td>-0.009431</td>\n",
              "      <td>0.798278</td>\n",
              "      <td>-0.137458</td>\n",
              "      <td>0.141267</td>\n",
              "      <td>-0.206010</td>\n",
              "      <td>0.502292</td>\n",
              "      <td>0.219422</td>\n",
              "      <td>0.215153</td>\n",
              "      <td>69.99</td>\n",
              "      <td>0</td>\n",
              "    </tr>\n",
              "  </tbody>\n",
              "</table>\n",
              "<p>5 rows × 31 columns</p>\n",
              "</div>\n",
              "      <button class=\"colab-df-convert\" onclick=\"convertToInteractive('df-b36c782e-2a43-41fe-8ea9-4a237cbbb338')\"\n",
              "              title=\"Convert this dataframe to an interactive table.\"\n",
              "              style=\"display:none;\">\n",
              "        \n",
              "  <svg xmlns=\"http://www.w3.org/2000/svg\" height=\"24px\"viewBox=\"0 0 24 24\"\n",
              "       width=\"24px\">\n",
              "    <path d=\"M0 0h24v24H0V0z\" fill=\"none\"/>\n",
              "    <path d=\"M18.56 5.44l.94 2.06.94-2.06 2.06-.94-2.06-.94-.94-2.06-.94 2.06-2.06.94zm-11 1L8.5 8.5l.94-2.06 2.06-.94-2.06-.94L8.5 2.5l-.94 2.06-2.06.94zm10 10l.94 2.06.94-2.06 2.06-.94-2.06-.94-.94-2.06-.94 2.06-2.06.94z\"/><path d=\"M17.41 7.96l-1.37-1.37c-.4-.4-.92-.59-1.43-.59-.52 0-1.04.2-1.43.59L10.3 9.45l-7.72 7.72c-.78.78-.78 2.05 0 2.83L4 21.41c.39.39.9.59 1.41.59.51 0 1.02-.2 1.41-.59l7.78-7.78 2.81-2.81c.8-.78.8-2.07 0-2.86zM5.41 20L4 18.59l7.72-7.72 1.47 1.35L5.41 20z\"/>\n",
              "  </svg>\n",
              "      </button>\n",
              "      \n",
              "  <style>\n",
              "    .colab-df-container {\n",
              "      display:flex;\n",
              "      flex-wrap:wrap;\n",
              "      gap: 12px;\n",
              "    }\n",
              "\n",
              "    .colab-df-convert {\n",
              "      background-color: #E8F0FE;\n",
              "      border: none;\n",
              "      border-radius: 50%;\n",
              "      cursor: pointer;\n",
              "      display: none;\n",
              "      fill: #1967D2;\n",
              "      height: 32px;\n",
              "      padding: 0 0 0 0;\n",
              "      width: 32px;\n",
              "    }\n",
              "\n",
              "    .colab-df-convert:hover {\n",
              "      background-color: #E2EBFA;\n",
              "      box-shadow: 0px 1px 2px rgba(60, 64, 67, 0.3), 0px 1px 3px 1px rgba(60, 64, 67, 0.15);\n",
              "      fill: #174EA6;\n",
              "    }\n",
              "\n",
              "    [theme=dark] .colab-df-convert {\n",
              "      background-color: #3B4455;\n",
              "      fill: #D2E3FC;\n",
              "    }\n",
              "\n",
              "    [theme=dark] .colab-df-convert:hover {\n",
              "      background-color: #434B5C;\n",
              "      box-shadow: 0px 1px 3px 1px rgba(0, 0, 0, 0.15);\n",
              "      filter: drop-shadow(0px 1px 2px rgba(0, 0, 0, 0.3));\n",
              "      fill: #FFFFFF;\n",
              "    }\n",
              "  </style>\n",
              "\n",
              "      <script>\n",
              "        const buttonEl =\n",
              "          document.querySelector('#df-b36c782e-2a43-41fe-8ea9-4a237cbbb338 button.colab-df-convert');\n",
              "        buttonEl.style.display =\n",
              "          google.colab.kernel.accessAllowed ? 'block' : 'none';\n",
              "\n",
              "        async function convertToInteractive(key) {\n",
              "          const element = document.querySelector('#df-b36c782e-2a43-41fe-8ea9-4a237cbbb338');\n",
              "          const dataTable =\n",
              "            await google.colab.kernel.invokeFunction('convertToInteractive',\n",
              "                                                     [key], {});\n",
              "          if (!dataTable) return;\n",
              "\n",
              "          const docLinkHtml = 'Like what you see? Visit the ' +\n",
              "            '<a target=\"_blank\" href=https://colab.research.google.com/notebooks/data_table.ipynb>data table notebook</a>'\n",
              "            + ' to learn more about interactive tables.';\n",
              "          element.innerHTML = '';\n",
              "          dataTable['output_type'] = 'display_data';\n",
              "          await google.colab.output.renderOutput(dataTable, element);\n",
              "          const docLink = document.createElement('div');\n",
              "          docLink.innerHTML = docLinkHtml;\n",
              "          element.appendChild(docLink);\n",
              "        }\n",
              "      </script>\n",
              "    </div>\n",
              "  </div>\n",
              "  "
            ]
          },
          "metadata": {},
          "execution_count": 3
        }
      ]
    },
    {
      "cell_type": "code",
      "source": [
        "\n",
        "data.isnull().sum()"
      ],
      "metadata": {
        "execution": {
          "iopub.status.busy": "2023-05-15T14:44:44.474761Z",
          "iopub.execute_input": "2023-05-15T14:44:44.475283Z",
          "iopub.status.idle": "2023-05-15T14:44:44.504993Z",
          "shell.execute_reply.started": "2023-05-15T14:44:44.475232Z",
          "shell.execute_reply": "2023-05-15T14:44:44.504139Z"
        },
        "trusted": true,
        "colab": {
          "base_uri": "https://localhost:8080/"
        },
        "id": "ytCrEZtKOx4d",
        "outputId": "dbfdcc8e-34d1-48a2-9ffb-74f8b62b4c8a"
      },
      "execution_count": 4,
      "outputs": [
        {
          "output_type": "execute_result",
          "data": {
            "text/plain": [
              "Time      0\n",
              "V1        0\n",
              "V2        0\n",
              "V3        0\n",
              "V4        0\n",
              "V5        0\n",
              "V6        0\n",
              "V7        0\n",
              "V8        0\n",
              "V9        0\n",
              "V10       0\n",
              "V11       0\n",
              "V12       0\n",
              "V13       0\n",
              "V14       0\n",
              "V15       0\n",
              "V16       0\n",
              "V17       0\n",
              "V18       0\n",
              "V19       0\n",
              "V20       0\n",
              "V21       0\n",
              "V22       0\n",
              "V23       0\n",
              "V24       0\n",
              "V25       0\n",
              "V26       0\n",
              "V27       0\n",
              "V28       0\n",
              "Amount    0\n",
              "Class     0\n",
              "dtype: int64"
            ]
          },
          "metadata": {},
          "execution_count": 4
        }
      ]
    },
    {
      "cell_type": "code",
      "source": [
        "## drop duplicate rows\n",
        "data = data.drop_duplicates()"
      ],
      "metadata": {
        "execution": {
          "iopub.status.busy": "2023-05-15T14:44:44.507975Z",
          "iopub.execute_input": "2023-05-15T14:44:44.5083Z",
          "iopub.status.idle": "2023-05-15T14:44:45.310217Z",
          "shell.execute_reply.started": "2023-05-15T14:44:44.508268Z",
          "shell.execute_reply": "2023-05-15T14:44:45.309076Z"
        },
        "trusted": true,
        "id": "t2ixNyf2Ox4e"
      },
      "execution_count": 5,
      "outputs": []
    },
    {
      "cell_type": "code",
      "source": [
        "from sklearn.preprocessing import RobustScaler\n",
        "sc = RobustScaler()\n",
        "data['Time'] = sc.fit_transform(data['Time'].values.reshape(-1,1))\n",
        "data['Amount'] = sc.fit_transform(data['Amount'].values.reshape(-1,1))"
      ],
      "metadata": {
        "execution": {
          "iopub.status.busy": "2023-05-15T14:44:45.312361Z",
          "iopub.execute_input": "2023-05-15T14:44:45.312698Z",
          "iopub.status.idle": "2023-05-15T14:44:45.481891Z",
          "shell.execute_reply.started": "2023-05-15T14:44:45.31267Z",
          "shell.execute_reply": "2023-05-15T14:44:45.480613Z"
        },
        "trusted": true,
        "id": "Os6wWi4zOx4e"
      },
      "execution_count": 6,
      "outputs": []
    },
    {
      "cell_type": "markdown",
      "source": [
        "## analysis of dataset"
      ],
      "metadata": {
        "id": "PPhJIXqxOx4f"
      }
    },
    {
      "cell_type": "code",
      "source": [
        "## check if data is imbalance or not\n",
        "data['Class'].value_counts()"
      ],
      "metadata": {
        "execution": {
          "iopub.status.busy": "2023-05-15T14:44:45.483422Z",
          "iopub.execute_input": "2023-05-15T14:44:45.483814Z",
          "iopub.status.idle": "2023-05-15T14:44:45.50014Z",
          "shell.execute_reply.started": "2023-05-15T14:44:45.483779Z",
          "shell.execute_reply": "2023-05-15T14:44:45.498576Z"
        },
        "trusted": true,
        "colab": {
          "base_uri": "https://localhost:8080/"
        },
        "id": "fTyrMd5NOx4f",
        "outputId": "33b6b656-9ec4-4ed5-9998-0353772aa6bc"
      },
      "execution_count": 7,
      "outputs": [
        {
          "output_type": "execute_result",
          "data": {
            "text/plain": [
              "0    283253\n",
              "1       473\n",
              "Name: Class, dtype: int64"
            ]
          },
          "metadata": {},
          "execution_count": 7
        }
      ]
    },
    {
      "cell_type": "code",
      "source": [
        "data['Class'].value_counts().plot(kind='bar', figsize=(12, 5))\n",
        "print('class_0_% is: {}'.format(100*(data['Class'].value_counts()[0]/len(data))))\n",
        "print('class_0_% is: {}'.format(100*(data['Class'].value_counts()[1]/len(data))))"
      ],
      "metadata": {
        "execution": {
          "iopub.status.busy": "2023-05-15T14:44:45.503055Z",
          "iopub.execute_input": "2023-05-15T14:44:45.503577Z",
          "iopub.status.idle": "2023-05-15T14:44:45.826467Z",
          "shell.execute_reply.started": "2023-05-15T14:44:45.503535Z",
          "shell.execute_reply": "2023-05-15T14:44:45.825242Z"
        },
        "trusted": true,
        "colab": {
          "base_uri": "https://localhost:8080/",
          "height": 475
        },
        "id": "KFtLptTeOx4f",
        "outputId": "f1906b86-7476-4968-fbb5-c1005e8b18e9"
      },
      "execution_count": 8,
      "outputs": [
        {
          "output_type": "stream",
          "name": "stdout",
          "text": [
            "class_0_% is: 99.83328986416473\n",
            "class_0_% is: 0.1667101358352777\n"
          ]
        },
        {
          "output_type": "display_data",
          "data": {
            "text/plain": [
              "<Figure size 1200x500 with 1 Axes>"
            ],
            "image/png": "[encoded data removed]"
          },
          "metadata": {}
        }
      ]
    },
    {
      "cell_type": "code",
      "source": [
        "from sklearn.model_selection import train_test_split\n",
        "(train, test) = train_test_split(data, test_size=0.2, stratify = data['Class'])"
      ],
      "metadata": {
        "execution": {
          "iopub.status.busy": "2023-05-15T14:44:45.828258Z",
          "iopub.execute_input": "2023-05-15T14:44:45.828743Z",
          "iopub.status.idle": "2023-05-15T14:44:46.281634Z",
          "shell.execute_reply.started": "2023-05-15T14:44:45.828697Z",
          "shell.execute_reply": "2023-05-15T14:44:46.280251Z"
        },
        "trusted": true,
        "id": "GpFJ7b8UOx4g"
      },
      "execution_count": 9,
      "outputs": []
    },
    {
      "cell_type": "code",
      "source": [
        "train"
      ],
      "metadata": {
        "execution": {
          "iopub.status.busy": "2023-05-15T14:44:46.28332Z",
          "iopub.execute_input": "2023-05-15T14:44:46.283722Z",
          "iopub.status.idle": "2023-05-15T14:44:46.386073Z",
          "shell.execute_reply.started": "2023-05-15T14:44:46.283685Z",
          "shell.execute_reply": "2023-05-15T14:44:46.38522Z"
        },
        "trusted": true,
        "colab": {
          "base_uri": "https://localhost:8080/",
          "height": 488
        },
        "id": "ZTpPZ2NHOx4g",
        "outputId": "e2c3eaf7-e5d3-4ae1-dd15-f859aacd9a39"
      },
      "execution_count": 10,
      "outputs": [
        {
          "output_type": "execute_result",
          "data": {
            "text/plain": [
              "            Time        V1        V2        V3        V4        V5        V6  \\\n",
              "44580  -0.501667  1.281213 -0.546109  0.649486  0.168324 -0.963645 -0.064016   \n",
              "161857  0.351291  1.916573 -0.777532 -2.202816 -1.517377  0.062995 -1.320949   \n",
              "263385  0.895941  2.064208  0.307318 -2.663015  0.421641  1.121310 -1.142625   \n",
              "216285  0.654876  1.999010  0.045111 -0.867072  0.564371 -0.422237 -1.739824   \n",
              "277089  0.972609 -0.336083  1.151166  0.157096 -0.800058  1.219422 -0.505666   \n",
              "...          ...       ...       ...       ...       ...       ...       ...   \n",
              "90849  -0.252588 -1.459629  0.255893  0.724477  0.094958  0.785389 -0.963788   \n",
              "144046  0.013344 -0.573615  1.119276  0.716351 -0.412599  0.780829  0.491939   \n",
              "69566  -0.366756 -0.794358  0.508119  1.662022 -1.392620  0.039018 -0.322383   \n",
              "160129  0.334192 -0.464377  1.302694 -0.307801 -0.464422  0.629152 -0.208711   \n",
              "229880  0.721520 -1.431632  0.661880  1.859336 -0.220157 -1.254936  0.658427   \n",
              "\n",
              "              V7        V8        V9  ...       V21       V22       V23  \\\n",
              "44580  -0.632253  0.020673 -0.443037  ... -0.438605 -0.517035  0.036532   \n",
              "161857  0.481479 -0.434542  1.459251  ...  0.156700  0.364917 -0.067364   \n",
              "263385  0.877995 -0.552551 -0.116905  ...  0.050652  0.315790 -0.106553   \n",
              "216285  0.257500 -0.458546  0.471567  ...  0.331419  1.161188  0.107442   \n",
              "277089  1.231659 -0.255015 -0.359992  ... -0.271782 -0.522759 -0.032414   \n",
              "...          ...       ...       ...  ...       ...       ...       ...   \n",
              "90849   0.276913  0.360045 -1.258892  ...  0.220570  0.125210 -0.181772   \n",
              "144046  0.485147  0.226697 -0.405985  ... -0.228682 -0.699017 -0.124479   \n",
              "69566   0.410484  0.266177 -0.205720  ...  0.011073 -0.007855  0.014635   \n",
              "160129  0.315642 -1.643474  0.309762  ...  1.865431  0.660956  0.006777   \n",
              "229880 -0.571988 -2.545376  0.233574  ... -1.194835  0.554102 -0.749058   \n",
              "\n",
              "             V24       V25       V26       V27       V28    Amount  Class  \n",
              "44580   0.092037  0.370377  0.441625  0.029009  0.014640 -0.146016      0  \n",
              "161857  0.657260  0.282003 -0.145735 -0.064636 -0.043132  1.501877      0  \n",
              "263385  0.499875  0.476205  0.687172 -0.101581 -0.044534  0.289390      0  \n",
              "216285  0.928355  0.143653 -0.155819 -0.007478 -0.047590 -0.280490      0  \n",
              "277089  0.680930 -0.647743  0.036788  0.064496  0.032675 -0.292171      0  \n",
              "...          ...       ...       ...       ...       ...       ...    ...  \n",
              "90849   0.072067  0.106180  0.311328 -0.071880 -0.110455  0.208594      0  \n",
              "144046 -1.208989 -0.139351  0.131578 -0.017453  0.068134 -0.243638      0  \n",
              "69566   0.035604 -0.449900  0.732462  0.257326  0.163192  0.010430      0  \n",
              "160129  0.490704 -0.361043 -0.405723  0.558024  0.305147 -0.292032      0  \n",
              "229880  0.050613  0.091185 -0.234400  0.199110  0.078479  3.183841      0  \n",
              "\n",
              "[226980 rows x 31 columns]"
            ],
            "text/html": [
              "\n",
              "  <div id=\"df-93950e6a-9602-4ca1-8f35-92de575dbd50\">\n",
              "    <div class=\"colab-df-container\">\n",
              "      <div>\n",
              "<style scoped>\n",
              "    .dataframe tbody tr th:only-of-type {\n",
              "        vertical-align: middle;\n",
              "    }\n",
              "\n",
              "    .dataframe tbody tr th {\n",
              "        vertical-align: top;\n",
              "    }\n",
              "\n",
              "    .dataframe thead th {\n",
              "        text-align: right;\n",
              "    }\n",
              "</style>\n",
              "<table border=\"1\" class=\"dataframe\">\n",
              "  <thead>\n",
              "    <tr style=\"text-align: right;\">\n",
              "      <th></th>\n",
              "      <th>Time</th>\n",
              "      <th>V1</th>\n",
              "      <th>V2</th>\n",
              "      <th>V3</th>\n",
              "      <th>V4</th>\n",
              "      <th>V5</th>\n",
              "      <th>V6</th>\n",
              "      <th>V7</th>\n",
              "      <th>V8</th>\n",
              "      <th>V9</th>\n",
              "      <th>...</th>\n",
              "      <th>V21</th>\n",
              "      <th>V22</th>\n",
              "      <th>V23</th>\n",
              "      <th>V24</th>\n",
              "      <th>V25</th>\n",
              "      <th>V26</th>\n",
              "      <th>V27</th>\n",
              "      <th>V28</th>\n",
              "      <th>Amount</th>\n",
              "      <th>Class</th>\n",
              "    </tr>\n",
              "  </thead>\n",
              "  <tbody>\n",
              "    <tr>\n",
              "      <th>44580</th>\n",
              "      <td>-0.501667</td>\n",
              "      <td>1.281213</td>\n",
              "      <td>-0.546109</td>\n",
              "      <td>0.649486</td>\n",
              "      <td>0.168324</td>\n",
              "      <td>-0.963645</td>\n",
              "      <td>-0.064016</td>\n",
              "      <td>-0.632253</td>\n",
              "      <td>0.020673</td>\n",
              "      <td>-0.443037</td>\n",
              "      <td>...</td>\n",
              "      <td>-0.438605</td>\n",
              "      <td>-0.517035</td>\n",
              "      <td>0.036532</td>\n",
              "      <td>0.092037</td>\n",
              "      <td>0.370377</td>\n",
              "      <td>0.441625</td>\n",
              "      <td>0.029009</td>\n",
              "      <td>0.014640</td>\n",
              "      <td>-0.146016</td>\n",
              "      <td>0</td>\n",
              "    </tr>\n",
              "    <tr>\n",
              "      <th>161857</th>\n",
              "      <td>0.351291</td>\n",
              "      <td>1.916573</td>\n",
              "      <td>-0.777532</td>\n",
              "      <td>-2.202816</td>\n",
              "      <td>-1.517377</td>\n",
              "      <td>0.062995</td>\n",
              "      <td>-1.320949</td>\n",
              "      <td>0.481479</td>\n",
              "      <td>-0.434542</td>\n",
              "      <td>1.459251</td>\n",
              "      <td>...</td>\n",
              "      <td>0.156700</td>\n",
              "      <td>0.364917</td>\n",
              "      <td>-0.067364</td>\n",
              "      <td>0.657260</td>\n",
              "      <td>0.282003</td>\n",
              "      <td>-0.145735</td>\n",
              "      <td>-0.064636</td>\n",
              "      <td>-0.043132</td>\n",
              "      <td>1.501877</td>\n",
              "      <td>0</td>\n",
              "    </tr>\n",
              "    <tr>\n",
              "      <th>263385</th>\n",
              "      <td>0.895941</td>\n",
              "      <td>2.064208</td>\n",
              "      <td>0.307318</td>\n",
              "      <td>-2.663015</td>\n",
              "      <td>0.421641</td>\n",
              "      <td>1.121310</td>\n",
              "      <td>-1.142625</td>\n",
              "      <td>0.877995</td>\n",
              "      <td>-0.552551</td>\n",
              "      <td>-0.116905</td>\n",
              "      <td>...</td>\n",
              "      <td>0.050652</td>\n",
              "      <td>0.315790</td>\n",
              "      <td>-0.106553</td>\n",
              "      <td>0.499875</td>\n",
              "      <td>0.476205</td>\n",
              "      <td>0.687172</td>\n",
              "      <td>-0.101581</td>\n",
              "      <td>-0.044534</td>\n",
              "      <td>0.289390</td>\n",
              "      <td>0</td>\n",
              "    </tr>\n",
              "    <tr>\n",
              "      <th>216285</th>\n",
              "      <td>0.654876</td>\n",
              "      <td>1.999010</td>\n",
              "      <td>0.045111</td>\n",
              "      <td>-0.867072</td>\n",
              "      <td>0.564371</td>\n",
              "      <td>-0.422237</td>\n",
              "      <td>-1.739824</td>\n",
              "      <td>0.257500</td>\n",
              "      <td>-0.458546</td>\n",
              "      <td>0.471567</td>\n",
              "      <td>...</td>\n",
              "      <td>0.331419</td>\n",
              "      <td>1.161188</td>\n",
              "      <td>0.107442</td>\n",
              "      <td>0.928355</td>\n",
              "      <td>0.143653</td>\n",
              "      <td>-0.155819</td>\n",
              "      <td>-0.007478</td>\n",
              "      <td>-0.047590</td>\n",
              "      <td>-0.280490</td>\n",
              "      <td>0</td>\n",
              "    </tr>\n",
              "    <tr>\n",
              "      <th>277089</th>\n",
              "      <td>0.972609</td>\n",
              "      <td>-0.336083</td>\n",
              "      <td>1.151166</td>\n",
              "      <td>0.157096</td>\n",
              "      <td>-0.800058</td>\n",
              "      <td>1.219422</td>\n",
              "      <td>-0.505666</td>\n",
              "      <td>1.231659</td>\n",
              "      <td>-0.255015</td>\n",
              "      <td>-0.359992</td>\n",
              "      <td>...</td>\n",
              "      <td>-0.271782</td>\n",
              "      <td>-0.522759</td>\n",
              "      <td>-0.032414</td>\n",
              "      <td>0.680930</td>\n",
              "      <td>-0.647743</td>\n",
              "      <td>0.036788</td>\n",
              "      <td>0.064496</td>\n",
              "      <td>0.032675</td>\n",
              "      <td>-0.292171</td>\n",
              "      <td>0</td>\n",
              "    </tr>\n",
              "    <tr>\n",
              "      <th>...</th>\n",
              "      <td>...</td>\n",
              "      <td>...</td>\n",
              "      <td>...</td>\n",
              "      <td>...</td>\n",
              "      <td>...</td>\n",
              "      <td>...</td>\n",
              "      <td>...</td>\n",
              "      <td>...</td>\n",
              "      <td>...</td>\n",
              "      <td>...</td>\n",
              "      <td>...</td>\n",
              "      <td>...</td>\n",
              "      <td>...</td>\n",
              "      <td>...</td>\n",
              "      <td>...</td>\n",
              "      <td>...</td>\n",
              "      <td>...</td>\n",
              "      <td>...</td>\n",
              "      <td>...</td>\n",
              "      <td>...</td>\n",
              "      <td>...</td>\n",
              "    </tr>\n",
              "    <tr>\n",
              "      <th>90849</th>\n",
              "      <td>-0.252588</td>\n",
              "      <td>-1.459629</td>\n",
              "      <td>0.255893</td>\n",
              "      <td>0.724477</td>\n",
              "      <td>0.094958</td>\n",
              "      <td>0.785389</td>\n",
              "      <td>-0.963788</td>\n",
              "      <td>0.276913</td>\n",
              "      <td>0.360045</td>\n",
              "      <td>-1.258892</td>\n",
              "      <td>...</td>\n",
              "      <td>0.220570</td>\n",
              "      <td>0.125210</td>\n",
              "      <td>-0.181772</td>\n",
              "      <td>0.072067</td>\n",
              "      <td>0.106180</td>\n",
              "      <td>0.311328</td>\n",
              "      <td>-0.071880</td>\n",
              "      <td>-0.110455</td>\n",
              "      <td>0.208594</td>\n",
              "      <td>0</td>\n",
              "    </tr>\n",
              "    <tr>\n",
              "      <th>144046</th>\n",
              "      <td>0.013344</td>\n",
              "      <td>-0.573615</td>\n",
              "      <td>1.119276</td>\n",
              "      <td>0.716351</td>\n",
              "      <td>-0.412599</td>\n",
              "      <td>0.780829</td>\n",
              "      <td>0.491939</td>\n",
              "      <td>0.485147</td>\n",
              "      <td>0.226697</td>\n",
              "      <td>-0.405985</td>\n",
              "      <td>...</td>\n",
              "      <td>-0.228682</td>\n",
              "      <td>-0.699017</td>\n",
              "      <td>-0.124479</td>\n",
              "      <td>-1.208989</td>\n",
              "      <td>-0.139351</td>\n",
              "      <td>0.131578</td>\n",
              "      <td>-0.017453</td>\n",
              "      <td>0.068134</td>\n",
              "      <td>-0.243638</td>\n",
              "      <td>0</td>\n",
              "    </tr>\n",
              "    <tr>\n",
              "      <th>69566</th>\n",
              "      <td>-0.366756</td>\n",
              "      <td>-0.794358</td>\n",
              "      <td>0.508119</td>\n",
              "      <td>1.662022</td>\n",
              "      <td>-1.392620</td>\n",
              "      <td>0.039018</td>\n",
              "      <td>-0.322383</td>\n",
              "      <td>0.410484</td>\n",
              "      <td>0.266177</td>\n",
              "      <td>-0.205720</td>\n",
              "      <td>...</td>\n",
              "      <td>0.011073</td>\n",
              "      <td>-0.007855</td>\n",
              "      <td>0.014635</td>\n",
              "      <td>0.035604</td>\n",
              "      <td>-0.449900</td>\n",
              "      <td>0.732462</td>\n",
              "      <td>0.257326</td>\n",
              "      <td>0.163192</td>\n",
              "      <td>0.010430</td>\n",
              "      <td>0</td>\n",
              "    </tr>\n",
              "    <tr>\n",
              "      <th>160129</th>\n",
              "      <td>0.334192</td>\n",
              "      <td>-0.464377</td>\n",
              "      <td>1.302694</td>\n",
              "      <td>-0.307801</td>\n",
              "      <td>-0.464422</td>\n",
              "      <td>0.629152</td>\n",
              "      <td>-0.208711</td>\n",
              "      <td>0.315642</td>\n",
              "      <td>-1.643474</td>\n",
              "      <td>0.309762</td>\n",
              "      <td>...</td>\n",
              "      <td>1.865431</td>\n",
              "      <td>0.660956</td>\n",
              "      <td>0.006777</td>\n",
              "      <td>0.490704</td>\n",
              "      <td>-0.361043</td>\n",
              "      <td>-0.405723</td>\n",
              "      <td>0.558024</td>\n",
              "      <td>0.305147</td>\n",
              "      <td>-0.292032</td>\n",
              "      <td>0</td>\n",
              "    </tr>\n",
              "    <tr>\n",
              "      <th>229880</th>\n",
              "      <td>0.721520</td>\n",
              "      <td>-1.431632</td>\n",
              "      <td>0.661880</td>\n",
              "      <td>1.859336</td>\n",
              "      <td>-0.220157</td>\n",
              "      <td>-1.254936</td>\n",
              "      <td>0.658427</td>\n",
              "      <td>-0.571988</td>\n",
              "      <td>-2.545376</td>\n",
              "      <td>0.233574</td>\n",
              "      <td>...</td>\n",
              "      <td>-1.194835</td>\n",
              "      <td>0.554102</td>\n",
              "      <td>-0.749058</td>\n",
              "      <td>0.050613</td>\n",
              "      <td>0.091185</td>\n",
              "      <td>-0.234400</td>\n",
              "      <td>0.199110</td>\n",
              "      <td>0.078479</td>\n",
              "      <td>3.183841</td>\n",
              "      <td>0</td>\n",
              "    </tr>\n",
              "  </tbody>\n",
              "</table>\n",
              "<p>226980 rows × 31 columns</p>\n",
              "</div>\n",
              "      <button class=\"colab-df-convert\" onclick=\"convertToInteractive('df-93950e6a-9602-4ca1-8f35-92de575dbd50')\"\n",
              "              title=\"Convert this dataframe to an interactive table.\"\n",
              "              style=\"display:none;\">\n",
              "        \n",
              "  <svg xmlns=\"http://www.w3.org/2000/svg\" height=\"24px\"viewBox=\"0 0 24 24\"\n",
              "       width=\"24px\">\n",
              "    <path d=\"M0 0h24v24H0V0z\" fill=\"none\"/>\n",
              "    <path d=\"M18.56 5.44l.94 2.06.94-2.06 2.06-.94-2.06-.94-.94-2.06-.94 2.06-2.06.94zm-11 1L8.5 8.5l.94-2.06 2.06-.94-2.06-.94L8.5 2.5l-.94 2.06-2.06.94zm10 10l.94 2.06.94-2.06 2.06-.94-2.06-.94-.94-2.06-.94 2.06-2.06.94z\"/><path d=\"M17.41 7.96l-1.37-1.37c-.4-.4-.92-.59-1.43-.59-.52 0-1.04.2-1.43.59L10.3 9.45l-7.72 7.72c-.78.78-.78 2.05 0 2.83L4 21.41c.39.39.9.59 1.41.59.51 0 1.02-.2 1.41-.59l7.78-7.78 2.81-2.81c.8-.78.8-2.07 0-2.86zM5.41 20L4 18.59l7.72-7.72 1.47 1.35L5.41 20z\"/>\n",
              "  </svg>\n",
              "      </button>\n",
              "      \n",
              "  <style>\n",
              "    .colab-df-container {\n",
              "      display:flex;\n",
              "      flex-wrap:wrap;\n",
              "      gap: 12px;\n",
              "    }\n",
              "\n",
              "    .colab-df-convert {\n",
              "      background-color: #E8F0FE;\n",
              "      border: none;\n",
              "      border-radius: 50%;\n",
              "      cursor: pointer;\n",
              "      display: none;\n",
              "      fill: #1967D2;\n",
              "      height: 32px;\n",
              "      padding: 0 0 0 0;\n",
              "      width: 32px;\n",
              "    }\n",
              "\n",
              "    .colab-df-convert:hover {\n",
              "      background-color: #E2EBFA;\n",
              "      box-shadow: 0px 1px 2px rgba(60, 64, 67, 0.3), 0px 1px 3px 1px rgba(60, 64, 67, 0.15);\n",
              "      fill: #174EA6;\n",
              "    }\n",
              "\n",
              "    [theme=dark] .colab-df-convert {\n",
              "      background-color: #3B4455;\n",
              "      fill: #D2E3FC;\n",
              "    }\n",
              "\n",
              "    [theme=dark] .colab-df-convert:hover {\n",
              "      background-color: #434B5C;\n",
              "      box-shadow: 0px 1px 3px 1px rgba(0, 0, 0, 0.15);\n",
              "      filter: drop-shadow(0px 1px 2px rgba(0, 0, 0, 0.3));\n",
              "      fill: #FFFFFF;\n",
              "    }\n",
              "  </style>\n",
              "\n",
              "      <script>\n",
              "        const buttonEl =\n",
              "          document.querySelector('#df-93950e6a-9602-4ca1-8f35-92de575dbd50 button.colab-df-convert');\n",
              "        buttonEl.style.display =\n",
              "          google.colab.kernel.accessAllowed ? 'block' : 'none';\n",
              "\n",
              "        async function convertToInteractive(key) {\n",
              "          const element = document.querySelector('#df-93950e6a-9602-4ca1-8f35-92de575dbd50');\n",
              "          const dataTable =\n",
              "            await google.colab.kernel.invokeFunction('convertToInteractive',\n",
              "                                                     [key], {});\n",
              "          if (!dataTable) return;\n",
              "\n",
              "          const docLinkHtml = 'Like what you see? Visit the ' +\n",
              "            '<a target=\"_blank\" href=https://colab.research.google.com/notebooks/data_table.ipynb>data table notebook</a>'\n",
              "            + ' to learn more about interactive tables.';\n",
              "          element.innerHTML = '';\n",
              "          dataTable['output_type'] = 'display_data';\n",
              "          await google.colab.output.renderOutput(dataTable, element);\n",
              "          const docLink = document.createElement('div');\n",
              "          docLink.innerHTML = docLinkHtml;\n",
              "          element.appendChild(docLink);\n",
              "        }\n",
              "      </script>\n",
              "    </div>\n",
              "  </div>\n",
              "  "
            ]
          },
          "metadata": {},
          "execution_count": 10
        }
      ]
    },
    {
      "cell_type": "code",
      "source": [
        "train['Class'].value_counts().plot(kind='bar', figsize=(12, 5))\n",
        "print('class_0_% is: {}'.format(100*(train['Class'].value_counts()[0]/len(train))))\n",
        "print('class_0_% is: {}'.format(100*(train['Class'].value_counts()[1]/len(train))))"
      ],
      "metadata": {
        "execution": {
          "iopub.status.busy": "2023-05-15T14:44:46.387426Z",
          "iopub.execute_input": "2023-05-15T14:44:46.388653Z",
          "iopub.status.idle": "2023-05-15T14:44:46.627048Z",
          "shell.execute_reply.started": "2023-05-15T14:44:46.388614Z",
          "shell.execute_reply": "2023-05-15T14:44:46.625826Z"
        },
        "trusted": true,
        "colab": {
          "base_uri": "https://localhost:8080/",
          "height": 475
        },
        "id": "p3A18NL8Ox4g",
        "outputId": "b70012c4-207e-4869-e0d9-7f92fd8b8368"
      },
      "execution_count": 11,
      "outputs": [
        {
          "output_type": "stream",
          "name": "stdout",
          "text": [
            "class_0_% is: 99.83346550356859\n",
            "class_0_% is: 0.16653449643140364\n"
          ]
        },
        {
          "output_type": "display_data",
          "data": {
            "text/plain": [
              "<Figure size 1200x500 with 1 Axes>"
            ],
            "image/png": "[encoded data removed]"
          },
          "metadata": {}
        }
      ]
    },
    {
      "cell_type": "code",
      "source": [
        "test"
      ],
      "metadata": {
        "execution": {
          "iopub.status.busy": "2023-05-15T14:44:46.628873Z",
          "iopub.execute_input": "2023-05-15T14:44:46.629403Z",
          "iopub.status.idle": "2023-05-15T14:44:46.680472Z",
          "shell.execute_reply.started": "2023-05-15T14:44:46.62935Z",
          "shell.execute_reply": "2023-05-15T14:44:46.679004Z"
        },
        "trusted": true,
        "colab": {
          "base_uri": "https://localhost:8080/",
          "height": 488
        },
        "id": "_lsBE0vqOx4h",
        "outputId": "f2c9c6a3-d9b7-4c3d-9569-06fa1443b5e9"
      },
      "execution_count": 12,
      "outputs": [
        {
          "output_type": "execute_result",
          "data": {
            "text/plain": [
              "            Time        V1        V2        V3        V4        V5        V6  \\\n",
              "46955  -0.489904 -0.357052  0.334395  1.316508 -1.656222 -0.263029 -1.547669   \n",
              "215150  0.649446 -0.934787  0.982657  1.087568 -0.684523  0.951135 -1.129358   \n",
              "120218 -0.105079  1.252596  0.021359  0.044063  0.325909  0.011174 -0.053598   \n",
              "193197  0.532821 -0.650084  0.455936 -0.081964 -1.197056  1.399607 -1.574352   \n",
              "245716  0.801256 -1.302797  1.155463 -1.991184 -3.000197 -0.790413 -1.926339   \n",
              "...          ...       ...       ...       ...       ...       ...       ...   \n",
              "142648  0.001898 -1.004478  0.242935  1.375290  2.034392 -1.393425  1.124640   \n",
              "61337  -0.410262 -0.384047  0.752578  0.583394 -0.226477  0.606001 -0.101655   \n",
              "221923  0.682281  1.984301 -0.896911 -0.869948 -0.385410 -0.640813 -0.158551   \n",
              "159396  0.325907  2.046776 -0.234826 -1.623038  0.240260  0.381211 -0.379451   \n",
              "246458  0.804876  1.808886 -0.699902 -1.411927 -0.101256  0.479882  1.049000   \n",
              "\n",
              "              V7        V8        V9  ...       V21       V22       V23  \\\n",
              "46955   0.666546 -0.297201 -1.638852  ... -0.054379 -0.384624  0.097708   \n",
              "215150  1.107257 -0.182687 -0.546479  ... -0.049547 -0.173858 -0.422639   \n",
              "120218 -0.097035  0.013237  0.263268  ... -0.096153 -0.266459 -0.071237   \n",
              "193197  0.870378 -0.059454 -0.143379  ...  0.407643  1.003737 -0.211689   \n",
              "245716 -0.198479  0.736532 -2.769831  ...  0.137828  0.700706 -0.052697   \n",
              "...          ...       ...       ...  ...       ...       ...       ...   \n",
              "142648  1.706172 -0.105825 -1.536360  ... -0.146367 -0.385928  0.613648   \n",
              "61337   0.455328  0.143373  0.123916  ... -0.074513 -0.124522 -0.241050   \n",
              "221923 -0.623944 -0.033555 -0.337940  ... -0.241714 -0.202926  0.223164   \n",
              "159396  0.133764 -0.140684  0.999961  ... -0.288367 -0.782050  0.198995   \n",
              "246458 -0.329081  0.385855  1.046042  ... -0.055587 -0.008416  0.175069   \n",
              "\n",
              "             V24       V25       V26       V27       V28    Amount  Class  \n",
              "46955   0.671813 -0.370750 -0.761914  0.088838  0.141725 -0.041719      0  \n",
              "215150 -0.013087  0.776580  0.293751 -0.028067  0.073903 -0.057016      0  \n",
              "120218 -0.749998  0.389529  0.494047 -0.029793  0.002433 -0.058406      0  \n",
              "193197 -0.090634 -0.263016 -0.428450  0.148354  0.216989 -0.264219      0  \n",
              "245716 -0.095147 -0.127098 -0.131002  0.256403  0.189972 -0.208594      0  \n",
              "...          ...       ...       ...       ...       ...       ...    ...  \n",
              "142648  0.007975 -0.584374  0.896050  0.130980 -0.006588  5.107078      0  \n",
              "61337  -0.582542 -0.051397  0.215267 -0.110825  0.058813 -0.134752      0  \n",
              "221923  0.739052 -0.184551 -0.400366  0.022510 -0.031630  0.568906      0  \n",
              "159396  0.032119  0.011357 -0.532418 -0.027903 -0.048270  0.150883      0  \n",
              "246458 -1.647141 -0.286040  0.021527  0.002425 -0.076125  0.528438      0  \n",
              "\n",
              "[56746 rows x 31 columns]"
            ],
            "text/html": [
              "\n",
              "  <div id=\"df-de7d9004-70ca-4085-840c-93d60d381fcf\">\n",
              "    <div class=\"colab-df-container\">\n",
              "      <div>\n",
              "<style scoped>\n",
              "    .dataframe tbody tr th:only-of-type {\n",
              "        vertical-align: middle;\n",
              "    }\n",
              "\n",
              "    .dataframe tbody tr th {\n",
              "        vertical-align: top;\n",
              "    }\n",
              "\n",
              "    .dataframe thead th {\n",
              "        text-align: right;\n",
              "    }\n",
              "</style>\n",
              "<table border=\"1\" class=\"dataframe\">\n",
              "  <thead>\n",
              "    <tr style=\"text-align: right;\">\n",
              "      <th></th>\n",
              "      <th>Time</th>\n",
              "      <th>V1</th>\n",
              "      <th>V2</th>\n",
              "      <th>V3</th>\n",
              "      <th>V4</th>\n",
              "      <th>V5</th>\n",
              "      <th>V6</th>\n",
              "      <th>V7</th>\n",
              "      <th>V8</th>\n",
              "      <th>V9</th>\n",
              "      <th>...</th>\n",
              "      <th>V21</th>\n",
              "      <th>V22</th>\n",
              "      <th>V23</th>\n",
              "      <th>V24</th>\n",
              "      <th>V25</th>\n",
              "      <th>V26</th>\n",
              "      <th>V27</th>\n",
              "      <th>V28</th>\n",
              "      <th>Amount</th>\n",
              "      <th>Class</th>\n",
              "    </tr>\n",
              "  </thead>\n",
              "  <tbody>\n",
              "    <tr>\n",
              "      <th>46955</th>\n",
              "      <td>-0.489904</td>\n",
              "      <td>-0.357052</td>\n",
              "      <td>0.334395</td>\n",
              "      <td>1.316508</td>\n",
              "      <td>-1.656222</td>\n",
              "      <td>-0.263029</td>\n",
              "      <td>-1.547669</td>\n",
              "      <td>0.666546</td>\n",
              "      <td>-0.297201</td>\n",
              "      <td>-1.638852</td>\n",
              "      <td>...</td>\n",
              "      <td>-0.054379</td>\n",
              "      <td>-0.384624</td>\n",
              "      <td>0.097708</td>\n",
              "      <td>0.671813</td>\n",
              "      <td>-0.370750</td>\n",
              "      <td>-0.761914</td>\n",
              "      <td>0.088838</td>\n",
              "      <td>0.141725</td>\n",
              "      <td>-0.041719</td>\n",
              "      <td>0</td>\n",
              "    </tr>\n",
              "    <tr>\n",
              "      <th>215150</th>\n",
              "      <td>0.649446</td>\n",
              "      <td>-0.934787</td>\n",
              "      <td>0.982657</td>\n",
              "      <td>1.087568</td>\n",
              "      <td>-0.684523</td>\n",
              "      <td>0.951135</td>\n",
              "      <td>-1.129358</td>\n",
              "      <td>1.107257</td>\n",
              "      <td>-0.182687</td>\n",
              "      <td>-0.546479</td>\n",
              "      <td>...</td>\n",
              "      <td>-0.049547</td>\n",
              "      <td>-0.173858</td>\n",
              "      <td>-0.422639</td>\n",
              "      <td>-0.013087</td>\n",
              "      <td>0.776580</td>\n",
              "      <td>0.293751</td>\n",
              "      <td>-0.028067</td>\n",
              "      <td>0.073903</td>\n",
              "      <td>-0.057016</td>\n",
              "      <td>0</td>\n",
              "    </tr>\n",
              "    <tr>\n",
              "      <th>120218</th>\n",
              "      <td>-0.105079</td>\n",
              "      <td>1.252596</td>\n",
              "      <td>0.021359</td>\n",
              "      <td>0.044063</td>\n",
              "      <td>0.325909</td>\n",
              "      <td>0.011174</td>\n",
              "      <td>-0.053598</td>\n",
              "      <td>-0.097035</td>\n",
              "      <td>0.013237</td>\n",
              "      <td>0.263268</td>\n",
              "      <td>...</td>\n",
              "      <td>-0.096153</td>\n",
              "      <td>-0.266459</td>\n",
              "      <td>-0.071237</td>\n",
              "      <td>-0.749998</td>\n",
              "      <td>0.389529</td>\n",
              "      <td>0.494047</td>\n",
              "      <td>-0.029793</td>\n",
              "      <td>0.002433</td>\n",
              "      <td>-0.058406</td>\n",
              "      <td>0</td>\n",
              "    </tr>\n",
              "    <tr>\n",
              "      <th>193197</th>\n",
              "      <td>0.532821</td>\n",
              "      <td>-0.650084</td>\n",
              "      <td>0.455936</td>\n",
              "      <td>-0.081964</td>\n",
              "      <td>-1.197056</td>\n",
              "      <td>1.399607</td>\n",
              "      <td>-1.574352</td>\n",
              "      <td>0.870378</td>\n",
              "      <td>-0.059454</td>\n",
              "      <td>-0.143379</td>\n",
              "      <td>...</td>\n",
              "      <td>0.407643</td>\n",
              "      <td>1.003737</td>\n",
              "      <td>-0.211689</td>\n",
              "      <td>-0.090634</td>\n",
              "      <td>-0.263016</td>\n",
              "      <td>-0.428450</td>\n",
              "      <td>0.148354</td>\n",
              "      <td>0.216989</td>\n",
              "      <td>-0.264219</td>\n",
              "      <td>0</td>\n",
              "    </tr>\n",
              "    <tr>\n",
              "      <th>245716</th>\n",
              "      <td>0.801256</td>\n",
              "      <td>-1.302797</td>\n",
              "      <td>1.155463</td>\n",
              "      <td>-1.991184</td>\n",
              "      <td>-3.000197</td>\n",
              "      <td>-0.790413</td>\n",
              "      <td>-1.926339</td>\n",
              "      <td>-0.198479</td>\n",
              "      <td>0.736532</td>\n",
              "      <td>-2.769831</td>\n",
              "      <td>...</td>\n",
              "      <td>0.137828</td>\n",
              "      <td>0.700706</td>\n",
              "      <td>-0.052697</td>\n",
              "      <td>-0.095147</td>\n",
              "      <td>-0.127098</td>\n",
              "      <td>-0.131002</td>\n",
              "      <td>0.256403</td>\n",
              "      <td>0.189972</td>\n",
              "      <td>-0.208594</td>\n",
              "      <td>0</td>\n",
              "    </tr>\n",
              "    <tr>\n",
              "      <th>...</th>\n",
              "      <td>...</td>\n",
              "      <td>...</td>\n",
              "      <td>...</td>\n",
              "      <td>...</td>\n",
              "      <td>...</td>\n",
              "      <td>...</td>\n",
              "      <td>...</td>\n",
              "      <td>...</td>\n",
              "      <td>...</td>\n",
              "      <td>...</td>\n",
              "      <td>...</td>\n",
              "      <td>...</td>\n",
              "      <td>...</td>\n",
              "      <td>...</td>\n",
              "      <td>...</td>\n",
              "      <td>...</td>\n",
              "      <td>...</td>\n",
              "      <td>...</td>\n",
              "      <td>...</td>\n",
              "      <td>...</td>\n",
              "      <td>...</td>\n",
              "    </tr>\n",
              "    <tr>\n",
              "      <th>142648</th>\n",
              "      <td>0.001898</td>\n",
              "      <td>-1.004478</td>\n",
              "      <td>0.242935</td>\n",
              "      <td>1.375290</td>\n",
              "      <td>2.034392</td>\n",
              "      <td>-1.393425</td>\n",
              "      <td>1.124640</td>\n",
              "      <td>1.706172</td>\n",
              "      <td>-0.105825</td>\n",
              "      <td>-1.536360</td>\n",
              "      <td>...</td>\n",
              "      <td>-0.146367</td>\n",
              "      <td>-0.385928</td>\n",
              "      <td>0.613648</td>\n",
              "      <td>0.007975</td>\n",
              "      <td>-0.584374</td>\n",
              "      <td>0.896050</td>\n",
              "      <td>0.130980</td>\n",
              "      <td>-0.006588</td>\n",
              "      <td>5.107078</td>\n",
              "      <td>0</td>\n",
              "    </tr>\n",
              "    <tr>\n",
              "      <th>61337</th>\n",
              "      <td>-0.410262</td>\n",
              "      <td>-0.384047</td>\n",
              "      <td>0.752578</td>\n",
              "      <td>0.583394</td>\n",
              "      <td>-0.226477</td>\n",
              "      <td>0.606001</td>\n",
              "      <td>-0.101655</td>\n",
              "      <td>0.455328</td>\n",
              "      <td>0.143373</td>\n",
              "      <td>0.123916</td>\n",
              "      <td>...</td>\n",
              "      <td>-0.074513</td>\n",
              "      <td>-0.124522</td>\n",
              "      <td>-0.241050</td>\n",
              "      <td>-0.582542</td>\n",
              "      <td>-0.051397</td>\n",
              "      <td>0.215267</td>\n",
              "      <td>-0.110825</td>\n",
              "      <td>0.058813</td>\n",
              "      <td>-0.134752</td>\n",
              "      <td>0</td>\n",
              "    </tr>\n",
              "    <tr>\n",
              "      <th>221923</th>\n",
              "      <td>0.682281</td>\n",
              "      <td>1.984301</td>\n",
              "      <td>-0.896911</td>\n",
              "      <td>-0.869948</td>\n",
              "      <td>-0.385410</td>\n",
              "      <td>-0.640813</td>\n",
              "      <td>-0.158551</td>\n",
              "      <td>-0.623944</td>\n",
              "      <td>-0.033555</td>\n",
              "      <td>-0.337940</td>\n",
              "      <td>...</td>\n",
              "      <td>-0.241714</td>\n",
              "      <td>-0.202926</td>\n",
              "      <td>0.223164</td>\n",
              "      <td>0.739052</td>\n",
              "      <td>-0.184551</td>\n",
              "      <td>-0.400366</td>\n",
              "      <td>0.022510</td>\n",
              "      <td>-0.031630</td>\n",
              "      <td>0.568906</td>\n",
              "      <td>0</td>\n",
              "    </tr>\n",
              "    <tr>\n",
              "      <th>159396</th>\n",
              "      <td>0.325907</td>\n",
              "      <td>2.046776</td>\n",
              "      <td>-0.234826</td>\n",
              "      <td>-1.623038</td>\n",
              "      <td>0.240260</td>\n",
              "      <td>0.381211</td>\n",
              "      <td>-0.379451</td>\n",
              "      <td>0.133764</td>\n",
              "      <td>-0.140684</td>\n",
              "      <td>0.999961</td>\n",
              "      <td>...</td>\n",
              "      <td>-0.288367</td>\n",
              "      <td>-0.782050</td>\n",
              "      <td>0.198995</td>\n",
              "      <td>0.032119</td>\n",
              "      <td>0.011357</td>\n",
              "      <td>-0.532418</td>\n",
              "      <td>-0.027903</td>\n",
              "      <td>-0.048270</td>\n",
              "      <td>0.150883</td>\n",
              "      <td>0</td>\n",
              "    </tr>\n",
              "    <tr>\n",
              "      <th>246458</th>\n",
              "      <td>0.804876</td>\n",
              "      <td>1.808886</td>\n",
              "      <td>-0.699902</td>\n",
              "      <td>-1.411927</td>\n",
              "      <td>-0.101256</td>\n",
              "      <td>0.479882</td>\n",
              "      <td>1.049000</td>\n",
              "      <td>-0.329081</td>\n",
              "      <td>0.385855</td>\n",
              "      <td>1.046042</td>\n",
              "      <td>...</td>\n",
              "      <td>-0.055587</td>\n",
              "      <td>-0.008416</td>\n",
              "      <td>0.175069</td>\n",
              "      <td>-1.647141</td>\n",
              "      <td>-0.286040</td>\n",
              "      <td>0.021527</td>\n",
              "      <td>0.002425</td>\n",
              "      <td>-0.076125</td>\n",
              "      <td>0.528438</td>\n",
              "      <td>0</td>\n",
              "    </tr>\n",
              "  </tbody>\n",
              "</table>\n",
              "<p>56746 rows × 31 columns</p>\n",
              "</div>\n",
              "      <button class=\"colab-df-convert\" onclick=\"convertToInteractive('df-de7d9004-70ca-4085-840c-93d60d381fcf')\"\n",
              "              title=\"Convert this dataframe to an interactive table.\"\n",
              "              style=\"display:none;\">\n",
              "        \n",
              "  <svg xmlns=\"http://www.w3.org/2000/svg\" height=\"24px\"viewBox=\"0 0 24 24\"\n",
              "       width=\"24px\">\n",
              "    <path d=\"M0 0h24v24H0V0z\" fill=\"none\"/>\n",
              "    <path d=\"M18.56 5.44l.94 2.06.94-2.06 2.06-.94-2.06-.94-.94-2.06-.94 2.06-2.06.94zm-11 1L8.5 8.5l.94-2.06 2.06-.94-2.06-.94L8.5 2.5l-.94 2.06-2.06.94zm10 10l.94 2.06.94-2.06 2.06-.94-2.06-.94-.94-2.06-.94 2.06-2.06.94z\"/><path d=\"M17.41 7.96l-1.37-1.37c-.4-.4-.92-.59-1.43-.59-.52 0-1.04.2-1.43.59L10.3 9.45l-7.72 7.72c-.78.78-.78 2.05 0 2.83L4 21.41c.39.39.9.59 1.41.59.51 0 1.02-.2 1.41-.59l7.78-7.78 2.81-2.81c.8-.78.8-2.07 0-2.86zM5.41 20L4 18.59l7.72-7.72 1.47 1.35L5.41 20z\"/>\n",
              "  </svg>\n",
              "      </button>\n",
              "      \n",
              "  <style>\n",
              "    .colab-df-container {\n",
              "      display:flex;\n",
              "      flex-wrap:wrap;\n",
              "      gap: 12px;\n",
              "    }\n",
              "\n",
              "    .colab-df-convert {\n",
              "      background-color: #E8F0FE;\n",
              "      border: none;\n",
              "      border-radius: 50%;\n",
              "      cursor: pointer;\n",
              "      display: none;\n",
              "      fill: #1967D2;\n",
              "      height: 32px;\n",
              "      padding: 0 0 0 0;\n",
              "      width: 32px;\n",
              "    }\n",
              "\n",
              "    .colab-df-convert:hover {\n",
              "      background-color: #E2EBFA;\n",
              "      box-shadow: 0px 1px 2px rgba(60, 64, 67, 0.3), 0px 1px 3px 1px rgba(60, 64, 67, 0.15);\n",
              "      fill: #174EA6;\n",
              "    }\n",
              "\n",
              "    [theme=dark] .colab-df-convert {\n",
              "      background-color: #3B4455;\n",
              "      fill: #D2E3FC;\n",
              "    }\n",
              "\n",
              "    [theme=dark] .colab-df-convert:hover {\n",
              "      background-color: #434B5C;\n",
              "      box-shadow: 0px 1px 3px 1px rgba(0, 0, 0, 0.15);\n",
              "      filter: drop-shadow(0px 1px 2px rgba(0, 0, 0, 0.3));\n",
              "      fill: #FFFFFF;\n",
              "    }\n",
              "  </style>\n",
              "\n",
              "      <script>\n",
              "        const buttonEl =\n",
              "          document.querySelector('#df-de7d9004-70ca-4085-840c-93d60d381fcf button.colab-df-convert');\n",
              "        buttonEl.style.display =\n",
              "          google.colab.kernel.accessAllowed ? 'block' : 'none';\n",
              "\n",
              "        async function convertToInteractive(key) {\n",
              "          const element = document.querySelector('#df-de7d9004-70ca-4085-840c-93d60d381fcf');\n",
              "          const dataTable =\n",
              "            await google.colab.kernel.invokeFunction('convertToInteractive',\n",
              "                                                     [key], {});\n",
              "          if (!dataTable) return;\n",
              "\n",
              "          const docLinkHtml = 'Like what you see? Visit the ' +\n",
              "            '<a target=\"_blank\" href=https://colab.research.google.com/notebooks/data_table.ipynb>data table notebook</a>'\n",
              "            + ' to learn more about interactive tables.';\n",
              "          element.innerHTML = '';\n",
              "          dataTable['output_type'] = 'display_data';\n",
              "          await google.colab.output.renderOutput(dataTable, element);\n",
              "          const docLink = document.createElement('div');\n",
              "          docLink.innerHTML = docLinkHtml;\n",
              "          element.appendChild(docLink);\n",
              "        }\n",
              "      </script>\n",
              "    </div>\n",
              "  </div>\n",
              "  "
            ]
          },
          "metadata": {},
          "execution_count": 12
        }
      ]
    },
    {
      "cell_type": "code",
      "source": [
        "test['Class'].value_counts().plot(kind='bar', figsize=(12, 5))\n",
        "print('class_0_% is: {}'.format(100*(test['Class'].value_counts()[0]/len(test))))\n",
        "print('class_0_% is: {}'.format(100*(test['Class'].value_counts()[1]/len(test))))"
      ],
      "metadata": {
        "execution": {
          "iopub.status.busy": "2023-05-15T14:44:46.682608Z",
          "iopub.execute_input": "2023-05-15T14:44:46.683116Z",
          "iopub.status.idle": "2023-05-15T14:44:46.918559Z",
          "shell.execute_reply.started": "2023-05-15T14:44:46.683059Z",
          "shell.execute_reply": "2023-05-15T14:44:46.917237Z"
        },
        "trusted": true,
        "colab": {
          "base_uri": "https://localhost:8080/",
          "height": 475
        },
        "id": "iXmgMiGPOx4h",
        "outputId": "9b6cf322-5c7e-4928-e10d-438c83f46900"
      },
      "execution_count": 13,
      "outputs": [
        {
          "output_type": "stream",
          "name": "stdout",
          "text": [
            "class_0_% is: 99.83258731892997\n",
            "class_0_% is: 0.16741268107003138\n"
          ]
        },
        {
          "output_type": "display_data",
          "data": {
            "text/plain": [
              "<Figure size 1200x500 with 1 Axes>"
            ],
            "image/png": "[encoded data removed]"
          },
          "metadata": {}
        }
      ]
    },
    {
      "cell_type": "markdown",
      "source": [
        "## Apply SMOTE"
      ],
      "metadata": {
        "id": "ny0h5R9lOx4h"
      }
    },
    {
      "cell_type": "code",
      "source": [
        "train_X = train.iloc[:,:-1].values\n",
        "train_y = train.iloc[:, -1].values"
      ],
      "metadata": {
        "execution": {
          "iopub.status.busy": "2023-05-15T14:44:46.925225Z",
          "iopub.execute_input": "2023-05-15T14:44:46.925549Z",
          "iopub.status.idle": "2023-05-15T14:44:46.95357Z",
          "shell.execute_reply.started": "2023-05-15T14:44:46.925521Z",
          "shell.execute_reply": "2023-05-15T14:44:46.951894Z"
        },
        "trusted": true,
        "id": "hPru9UVgOx4h"
      },
      "execution_count": 14,
      "outputs": []
    },
    {
      "cell_type": "code",
      "source": [
        "from imblearn.over_sampling import SMOTE\n",
        "X_resampled, y_resampled = SMOTE().fit_resample(train_X, train_y)"
      ],
      "metadata": {
        "execution": {
          "iopub.status.busy": "2023-05-15T14:44:46.954776Z",
          "iopub.execute_input": "2023-05-15T14:44:46.95531Z",
          "iopub.status.idle": "2023-05-15T14:44:47.901396Z",
          "shell.execute_reply.started": "2023-05-15T14:44:46.955268Z",
          "shell.execute_reply": "2023-05-15T14:44:47.900113Z"
        },
        "trusted": true,
        "id": "AUv_OgCvOx4h"
      },
      "execution_count": 15,
      "outputs": []
    },
    {
      "cell_type": "code",
      "source": [
        "X_resampled"
      ],
      "metadata": {
        "execution": {
          "iopub.status.busy": "2023-05-15T14:44:47.903214Z",
          "iopub.execute_input": "2023-05-15T14:44:47.903667Z",
          "iopub.status.idle": "2023-05-15T14:44:47.913068Z",
          "shell.execute_reply.started": "2023-05-15T14:44:47.903621Z",
          "shell.execute_reply": "2023-05-15T14:44:47.911822Z"
        },
        "trusted": true,
        "colab": {
          "base_uri": "https://localhost:8080/"
        },
        "id": "-0rVvhKkOx4h",
        "outputId": "b09ec552-1f9d-4863-e87a-7e039fa3aa1d"
      },
      "execution_count": 16,
      "outputs": [
        {
          "output_type": "execute_result",
          "data": {
            "text/plain": [
              "array([[ -0.50166729,   1.28121346,  -0.54610938, ...,   0.02900929,\n",
              "          0.01463957,  -0.14601585],\n",
              "       [  0.35129108,   1.91657266,  -0.77753166, ...,  -0.06463561,\n",
              "         -0.04313238,   1.50187735],\n",
              "       [  0.89594063,   2.0642077 ,   0.30731788, ...,  -0.1015812 ,\n",
              "         -0.04453424,   0.28938951],\n",
              "       ...,\n",
              "       [ -0.15184337,  -1.71575745,   0.81502709, ...,   0.48749351,\n",
              "          0.21113052,  10.77424904],\n",
              "       [ -0.34770756, -14.47830334,   8.12735828, ...,  -1.85042967,\n",
              "         -1.00197365,   2.60907311],\n",
              "       [ -0.57345773,  -2.14664595,   0.0552953 , ...,   0.20919837,\n",
              "          0.24214978,   9.37735528]])"
            ]
          },
          "metadata": {},
          "execution_count": 16
        }
      ]
    },
    {
      "cell_type": "code",
      "source": [
        "## Now, visualize the class_distribution of y_resampled after applying SMOTE\n",
        "categories = [0,1]\n",
        "values = [len(y_resampled[y_resampled == 0]), len(y_resampled[y_resampled == 1])]\n",
        "plt.bar(categories, values)\n",
        "plt.title('Class_Distribution after applying SMOTE')\n",
        "plt.show()"
      ],
      "metadata": {
        "execution": {
          "iopub.status.busy": "2023-05-15T14:44:47.914891Z",
          "iopub.execute_input": "2023-05-15T14:44:47.915328Z",
          "iopub.status.idle": "2023-05-15T14:44:48.177827Z",
          "shell.execute_reply.started": "2023-05-15T14:44:47.915292Z",
          "shell.execute_reply": "2023-05-15T14:44:48.17662Z"
        },
        "trusted": true,
        "colab": {
          "base_uri": "https://localhost:8080/",
          "height": 452
        },
        "id": "Btx484GtOx4i",
        "outputId": "028b2459-6793-4ed7-8845-160b9d09b5c3"
      },
      "execution_count": 17,
      "outputs": [
        {
          "output_type": "display_data",
          "data": {
            "text/plain": [
              "<Figure size 640x480 with 1 Axes>"
            ],
            "image/png": "[encoded data removed]"
          },
          "metadata": {}
        }
      ]
    },
    {
      "cell_type": "markdown",
      "source": [
        "## Training the model using LogisticRegression"
      ],
      "metadata": {
        "id": "kkiAbnRROx4i"
      }
    },
    {
      "cell_type": "code",
      "source": [
        "from sklearn.linear_model import LogisticRegression\n",
        "lr = LogisticRegression()\n",
        "lr.fit(X_resampled, y_resampled)"
      ],
      "metadata": {
        "execution": {
          "iopub.status.busy": "2023-05-15T14:44:48.179442Z",
          "iopub.execute_input": "2023-05-15T14:44:48.179827Z",
          "iopub.status.idle": "2023-05-15T14:44:56.191378Z",
          "shell.execute_reply.started": "2023-05-15T14:44:48.179792Z",
          "shell.execute_reply": "2023-05-15T14:44:56.189785Z"
        },
        "trusted": true,
        "colab": {
          "base_uri": "https://localhost:8080/",
          "height": 75
        },
        "id": "UcnYdLa_Ox4i",
        "outputId": "0de4a199-54ec-4097-c414-15e7f0b005c1"
      },
      "execution_count": 18,
      "outputs": [
        {
          "output_type": "execute_result",
          "data": {
            "text/plain": [
              "LogisticRegression()"
            ],
            "text/html": [
              "<style>#sk-container-id-1 {color: black;background-color: white;}#sk-container-id-1 pre{padding: 0;}#sk-container-id-1 div.sk-toggleable {background-color: white;}#sk-container-id-1 label.sk-toggleable__label {cursor: pointer;display: block;width: 100%;margin-bottom: 0;padding: 0.3em;box-sizing: border-box;text-align: center;}#sk-container-id-1 label.sk-toggleable__label-arrow:before {content: \"▸\";float: left;margin-right: 0.25em;color: #696969;}#sk-container-id-1 label.sk-toggleable__label-arrow:hover:before {color: black;}#sk-container-id-1 div.sk-estimator:hover label.sk-toggleable__label-arrow:before {color: black;}#sk-container-id-1 div.sk-toggleable__content {max-height: 0;max-width: 0;overflow: hidden;text-align: left;background-color: #f0f8ff;}#sk-container-id-1 div.sk-toggleable__content pre {margin: 0.2em;color: black;border-radius: 0.25em;background-color: #f0f8ff;}#sk-container-id-1 input.sk-toggleable__control:checked~div.sk-toggleable__content {max-height: 200px;max-width: 100%;overflow: auto;}#sk-container-id-1 input.sk-toggleable__control:checked~label.sk-toggleable__label-arrow:before {content: \"▾\";}#sk-container-id-1 div.sk-estimator input.sk-toggleable__control:checked~label.sk-toggleable__label {background-color: #d4ebff;}#sk-container-id-1 div.sk-label input.sk-toggleable__control:checked~label.sk-toggleable__label {background-color: #d4ebff;}#sk-container-id-1 input.sk-hidden--visually {border: 0;clip: rect(1px 1px 1px 1px);clip: rect(1px, 1px, 1px, 1px);height: 1px;margin: -1px;overflow: hidden;padding: 0;position: absolute;width: 1px;}#sk-container-id-1 div.sk-estimator {font-family: monospace;background-color: #f0f8ff;border: 1px dotted black;border-radius: 0.25em;box-sizing: border-box;margin-bottom: 0.5em;}#sk-container-id-1 div.sk-estimator:hover {background-color: #d4ebff;}#sk-container-id-1 div.sk-parallel-item::after {content: \"\";width: 100%;border-bottom: 1px solid gray;flex-grow: 1;}#sk-container-id-1 div.sk-label:hover label.sk-toggleable__label {background-color: #d4ebff;}#sk-container-id-1 div.sk-serial::before {content: \"\";position: absolute;border-left: 1px solid gray;box-sizing: border-box;top: 0;bottom: 0;left: 50%;z-index: 0;}#sk-container-id-1 div.sk-serial {display: flex;flex-direction: column;align-items: center;background-color: white;padding-right: 0.2em;padding-left: 0.2em;position: relative;}#sk-container-id-1 div.sk-item {position: relative;z-index: 1;}#sk-container-id-1 div.sk-parallel {display: flex;align-items: stretch;justify-content: center;background-color: white;position: relative;}#sk-container-id-1 div.sk-item::before, #sk-container-id-1 div.sk-parallel-item::before {content: \"\";position: absolute;border-left: 1px solid gray;box-sizing: border-box;top: 0;bottom: 0;left: 50%;z-index: -1;}#sk-container-id-1 div.sk-parallel-item {display: flex;flex-direction: column;z-index: 1;position: relative;background-color: white;}#sk-container-id-1 div.sk-parallel-item:first-child::after {align-self: flex-end;width: 50%;}#sk-container-id-1 div.sk-parallel-item:last-child::after {align-self: flex-start;width: 50%;}#sk-container-id-1 div.sk-parallel-item:only-child::after {width: 0;}#sk-container-id-1 div.sk-dashed-wrapped {border: 1px dashed gray;margin: 0 0.4em 0.5em 0.4em;box-sizing: border-box;padding-bottom: 0.4em;background-color: white;}#sk-container-id-1 div.sk-label label {font-family: monospace;font-weight: bold;display: inline-block;line-height: 1.2em;}#sk-container-id-1 div.sk-label-container {text-align: center;}#sk-container-id-1 div.sk-container {/* jupyter's `normalize.less` sets `[hidden] { display: none; }` but bootstrap.min.css set `[hidden] { display: none !important; }` so we also need the `!important` here to be able to override the default hidden behavior on the sphinx rendered scikit-learn.org. See: https://github.com/scikit-learn/scikit-learn/issues/21755 */display: inline-block !important;position: relative;}#sk-container-id-1 div.sk-text-repr-fallback {display: none;}</style><div id=\"sk-container-id-1\" class=\"sk-top-container\"><div class=\"sk-text-repr-fallback\"><pre>LogisticRegression()</pre><b>In a Jupyter environment, please rerun this cell to show the HTML representation or trust the notebook. <br />On GitHub, the HTML representation is unable to render, please try loading this page with nbviewer.org.</b></div><div class=\"sk-container\" hidden><div class=\"sk-item\"><div class=\"sk-estimator sk-toggleable\"><input class=\"sk-toggleable__control sk-hidden--visually\" id=\"sk-estimator-id-1\" type=\"checkbox\" checked><label for=\"sk-estimator-id-1\" class=\"sk-toggleable__label sk-toggleable__label-arrow\">LogisticRegression</label><div class=\"sk-toggleable__content\"><pre>LogisticRegression()</pre></div></div></div></div></div>"
            ]
          },
          "metadata": {},
          "execution_count": 18
        }
      ]
    },
    {
      "cell_type": "code",
      "source": [
        "y_pred = lr.predict(test.iloc[:,:-1].values)"
      ],
      "metadata": {
        "execution": {
          "iopub.status.busy": "2023-05-15T14:44:56.194284Z",
          "iopub.execute_input": "2023-05-15T14:44:56.195508Z",
          "iopub.status.idle": "2023-05-15T14:44:56.224071Z",
          "shell.execute_reply.started": "2023-05-15T14:44:56.195441Z",
          "shell.execute_reply": "2023-05-15T14:44:56.222297Z"
        },
        "trusted": true,
        "id": "YFsnA7-mOx4i"
      },
      "execution_count": 19,
      "outputs": []
    },
    {
      "cell_type": "markdown",
      "source": [
        "### Making the confusion matrix for LogisticRegression"
      ],
      "metadata": {
        "id": "YPjdV-e4Ox4i"
      }
    },
    {
      "cell_type": "code",
      "source": [
        "X_test = test.iloc[:,:-1].values\n",
        "y_test = test.iloc[:,-1].values"
      ],
      "metadata": {
        "execution": {
          "iopub.status.busy": "2023-05-15T14:44:56.22714Z",
          "iopub.execute_input": "2023-05-15T14:44:56.228221Z",
          "iopub.status.idle": "2023-05-15T14:44:56.25702Z",
          "shell.execute_reply.started": "2023-05-15T14:44:56.228136Z",
          "shell.execute_reply": "2023-05-15T14:44:56.255368Z"
        },
        "trusted": true,
        "id": "5DW04uuNOx4i"
      },
      "execution_count": 20,
      "outputs": []
    },
    {
      "cell_type": "code",
      "source": [
        "from sklearn.metrics import confusion_matrix, accuracy_score\n",
        "cm = confusion_matrix(y_test, y_pred)\n",
        "print(cm)\n",
        "print(accuracy_score(y_test, y_pred))"
      ],
      "metadata": {
        "execution": {
          "iopub.status.busy": "2023-05-15T14:44:56.260103Z",
          "iopub.execute_input": "2023-05-15T14:44:56.261497Z",
          "iopub.status.idle": "2023-05-15T14:44:56.29983Z",
          "shell.execute_reply.started": "2023-05-15T14:44:56.261426Z",
          "shell.execute_reply": "2023-05-15T14:44:56.298342Z"
        },
        "trusted": true,
        "colab": {
          "base_uri": "https://localhost:8080/"
        },
        "id": "fGq2kCkOOx4i",
        "outputId": "2ed70bb7-4894-4fee-a033-b0a180436fd6"
      },
      "execution_count": 21,
      "outputs": [
        {
          "output_type": "stream",
          "name": "stdout",
          "text": [
            "[[55208  1443]\n",
            " [    9    86]]\n",
            "0.9744122933775068\n"
          ]
        }
      ]
    },
    {
      "cell_type": "markdown",
      "source": [
        "## Training the model using KNN"
      ],
      "metadata": {
        "id": "3wAMRhgZOx4j"
      }
    },
    {
      "cell_type": "code",
      "source": [
        "from sklearn.neighbors import KNeighborsClassifier\n",
        "knn = KNeighborsClassifier(n_neighbors = 5)\n",
        "knn.fit(X_resampled, y_resampled)"
      ],
      "metadata": {
        "execution": {
          "iopub.status.busy": "2023-05-15T14:44:56.302677Z",
          "iopub.execute_input": "2023-05-15T14:44:56.303875Z",
          "iopub.status.idle": "2023-05-15T14:44:56.382784Z",
          "shell.execute_reply.started": "2023-05-15T14:44:56.303809Z",
          "shell.execute_reply": "2023-05-15T14:44:56.381484Z"
        },
        "trusted": true,
        "colab": {
          "base_uri": "https://localhost:8080/",
          "height": 75
        },
        "id": "1GgxfiueOx4j",
        "outputId": "cf6dd3e7-4728-49bb-843a-5e0b88aaeccc"
      },
      "execution_count": 24,
      "outputs": [
        {
          "output_type": "execute_result",
          "data": {
            "text/plain": [
              "KNeighborsClassifier()"
            ],
            "text/html": [
              "<style>#sk-container-id-3 {color: black;background-color: white;}#sk-container-id-3 pre{padding: 0;}#sk-container-id-3 div.sk-toggleable {background-color: white;}#sk-container-id-3 label.sk-toggleable__label {cursor: pointer;display: block;width: 100%;margin-bottom: 0;padding: 0.3em;box-sizing: border-box;text-align: center;}#sk-container-id-3 label.sk-toggleable__label-arrow:before {content: \"▸\";float: left;margin-right: 0.25em;color: #696969;}#sk-container-id-3 label.sk-toggleable__label-arrow:hover:before {color: black;}#sk-container-id-3 div.sk-estimator:hover label.sk-toggleable__label-arrow:before {color: black;}#sk-container-id-3 div.sk-toggleable__content {max-height: 0;max-width: 0;overflow: hidden;text-align: left;background-color: #f0f8ff;}#sk-container-id-3 div.sk-toggleable__content pre {margin: 0.2em;color: black;border-radius: 0.25em;background-color: #f0f8ff;}#sk-container-id-3 input.sk-toggleable__control:checked~div.sk-toggleable__content {max-height: 200px;max-width: 100%;overflow: auto;}#sk-container-id-3 input.sk-toggleable__control:checked~label.sk-toggleable__label-arrow:before {content: \"▾\";}#sk-container-id-3 div.sk-estimator input.sk-toggleable__control:checked~label.sk-toggleable__label {background-color: #d4ebff;}#sk-container-id-3 div.sk-label input.sk-toggleable__control:checked~label.sk-toggleable__label {background-color: #d4ebff;}#sk-container-id-3 input.sk-hidden--visually {border: 0;clip: rect(1px 1px 1px 1px);clip: rect(1px, 1px, 1px, 1px);height: 1px;margin: -1px;overflow: hidden;padding: 0;position: absolute;width: 1px;}#sk-container-id-3 div.sk-estimator {font-family: monospace;background-color: #f0f8ff;border: 1px dotted black;border-radius: 0.25em;box-sizing: border-box;margin-bottom: 0.5em;}#sk-container-id-3 div.sk-estimator:hover {background-color: #d4ebff;}#sk-container-id-3 div.sk-parallel-item::after {content: \"\";width: 100%;border-bottom: 1px solid gray;flex-grow: 1;}#sk-container-id-3 div.sk-label:hover label.sk-toggleable__label {background-color: #d4ebff;}#sk-container-id-3 div.sk-serial::before {content: \"\";position: absolute;border-left: 1px solid gray;box-sizing: border-box;top: 0;bottom: 0;left: 50%;z-index: 0;}#sk-container-id-3 div.sk-serial {display: flex;flex-direction: column;align-items: center;background-color: white;padding-right: 0.2em;padding-left: 0.2em;position: relative;}#sk-container-id-3 div.sk-item {position: relative;z-index: 1;}#sk-container-id-3 div.sk-parallel {display: flex;align-items: stretch;justify-content: center;background-color: white;position: relative;}#sk-container-id-3 div.sk-item::before, #sk-container-id-3 div.sk-parallel-item::before {content: \"\";position: absolute;border-left: 1px solid gray;box-sizing: border-box;top: 0;bottom: 0;left: 50%;z-index: -1;}#sk-container-id-3 div.sk-parallel-item {display: flex;flex-direction: column;z-index: 1;position: relative;background-color: white;}#sk-container-id-3 div.sk-parallel-item:first-child::after {align-self: flex-end;width: 50%;}#sk-container-id-3 div.sk-parallel-item:last-child::after {align-self: flex-start;width: 50%;}#sk-container-id-3 div.sk-parallel-item:only-child::after {width: 0;}#sk-container-id-3 div.sk-dashed-wrapped {border: 1px dashed gray;margin: 0 0.4em 0.5em 0.4em;box-sizing: border-box;padding-bottom: 0.4em;background-color: white;}#sk-container-id-3 div.sk-label label {font-family: monospace;font-weight: bold;display: inline-block;line-height: 1.2em;}#sk-container-id-3 div.sk-label-container {text-align: center;}#sk-container-id-3 div.sk-container {/* jupyter's `normalize.less` sets `[hidden] { display: none; }` but bootstrap.min.css set `[hidden] { display: none !important; }` so we also need the `!important` here to be able to override the default hidden behavior on the sphinx rendered scikit-learn.org. See: https://github.com/scikit-learn/scikit-learn/issues/21755 */display: inline-block !important;position: relative;}#sk-container-id-3 div.sk-text-repr-fallback {display: none;}</style><div id=\"sk-container-id-3\" class=\"sk-top-container\"><div class=\"sk-text-repr-fallback\"><pre>KNeighborsClassifier()</pre><b>In a Jupyter environment, please rerun this cell to show the HTML representation or trust the notebook. <br />On GitHub, the HTML representation is unable to render, please try loading this page with nbviewer.org.</b></div><div class=\"sk-container\" hidden><div class=\"sk-item\"><div class=\"sk-estimator sk-toggleable\"><input class=\"sk-toggleable__control sk-hidden--visually\" id=\"sk-estimator-id-3\" type=\"checkbox\" checked><label for=\"sk-estimator-id-3\" class=\"sk-toggleable__label sk-toggleable__label-arrow\">KNeighborsClassifier</label><div class=\"sk-toggleable__content\"><pre>KNeighborsClassifier()</pre></div></div></div></div></div>"
            ]
          },
          "metadata": {},
          "execution_count": 24
        }
      ]
    },
    {
      "cell_type": "code",
      "source": [
        "y_pred = knn.predict(X_test)"
      ],
      "metadata": {
        "execution": {
          "iopub.status.busy": "2023-05-15T14:44:56.38438Z",
          "iopub.execute_input": "2023-05-15T14:44:56.384767Z",
          "iopub.status.idle": "2023-05-15T14:46:15.574547Z",
          "shell.execute_reply.started": "2023-05-15T14:44:56.384735Z",
          "shell.execute_reply": "2023-05-15T14:46:15.573139Z"
        },
        "trusted": true,
        "id": "EDDTKxG6Ox4j"
      },
      "execution_count": 25,
      "outputs": []
    },
    {
      "cell_type": "code",
      "source": [
        "cm = confusion_matrix(y_test, y_pred)\n",
        "print(cm)\n",
        "print(accuracy_score(y_test, y_pred))"
      ],
      "metadata": {
        "execution": {
          "iopub.status.busy": "2023-05-15T14:46:15.576504Z",
          "iopub.execute_input": "2023-05-15T14:46:15.577006Z",
          "iopub.status.idle": "2023-05-15T14:46:15.599163Z",
          "shell.execute_reply.started": "2023-05-15T14:46:15.576957Z",
          "shell.execute_reply": "2023-05-15T14:46:15.597731Z"
        },
        "trusted": true,
        "id": "VbsnG5oUOx4j",
        "colab": {
          "base_uri": "https://localhost:8080/"
        },
        "outputId": "5b711081-5ad7-4b38-8272-aa7b64195acf"
      },
      "execution_count": 26,
      "outputs": [
        {
          "output_type": "stream",
          "name": "stdout",
          "text": [
            "[[56563    88]\n",
            " [   16    79]]\n",
            "0.9981672717019702\n"
          ]
        }
      ]
    },
    {
      "cell_type": "code",
      "source": [
        "from sklearn.metrics import confusion_matrix, ConfusionMatrixDisplay\n",
        "disp = ConfusionMatrixDisplay(confusion_matrix=cm)"
      ],
      "metadata": {
        "id": "5u6Ydx8LQesO"
      },
      "execution_count": 27,
      "outputs": []
    },
    {
      "cell_type": "code",
      "source": [
        "disp.plot()"
      ],
      "metadata": {
        "colab": {
          "base_uri": "https://localhost:8080/",
          "height": 466
        },
        "id": "FcuFPNpxQwFM",
        "outputId": "2df38b89-a450-488f-c471-34e87861044f"
      },
      "execution_count": 28,
      "outputs": [
        {
          "output_type": "execute_result",
          "data": {
            "text/plain": [
              "<sklearn.metrics._plot.confusion_matrix.ConfusionMatrixDisplay at 0x7ff58875edd0>"
            ]
          },
          "metadata": {},
          "execution_count": 28
        },
        {
          "output_type": "display_data",
          "data": {
            "text/plain": [
              "<Figure size 640x480 with 2 Axes>"
            ],
            "image/png": "[encoded data removed]"
          },
          "metadata": {}
        }
      ]
    },
    {
      "cell_type": "code",
      "source": [],
      "metadata": {
        "id": "fEtgI3nikygq"
      },
      "execution_count": null,
      "outputs": []
    }
  ]
}